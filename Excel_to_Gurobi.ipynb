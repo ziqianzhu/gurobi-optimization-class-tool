{
 "cells": [
  {
   "cell_type": "code",
   "execution_count": 55,
   "id": "778b6e7e",
   "metadata": {},
   "outputs": [],
   "source": [
    "import pandas as pd\n",
    "from gurobipy import *\n",
    "import openpyxl"
   ]
  },
  {
   "cell_type": "code",
   "execution_count": 56,
   "id": "c022ff73",
   "metadata": {},
   "outputs": [],
   "source": [
    "# reading the inputs from Excel workbook\n",
    "wb = openpyxl.load_workbook(\"Model_Inputs.xlsx\")\n",
    "main = wb['Main']"
   ]
  },
  {
   "cell_type": "code",
   "execution_count": 57,
   "id": "b7004836",
   "metadata": {},
   "outputs": [],
   "source": [
    "# read objective\n",
    "obj = main.cell(column=2, row=1).value\n",
    "if obj =='max':\n",
    "    obj = -1\n",
    "elif obj =='min':\n",
    "    obj = 1\n",
    "else:\n",
    "    raise NameError('Objective cannot be recognized')\n",
    "# read obj coefficient\n",
    "obj_coeff=[]\n",
    "for c in range(2,10000):\n",
    "    v = main.cell(column=c, row=3).value\n",
    "    if v is None:\n",
    "        break\n",
    "    else:\n",
    "        obj_coeff.append(v)\n",
    "n_variables = len(obj_coeff)\n",
    "\n",
    "#read variable properties\n",
    "variable_name = []\n",
    "for c in range(n_variables):\n",
    "    v = main.cell(column=c+2, row=2).value\n",
    "    if v is None:\n",
    "        variable_name.append('x'+str(c+1))\n",
    "    elif type(v) != str:\n",
    "        variable_name.append(str(v))\n",
    "    else:\n",
    "        variable_name.append(v)        \n",
    "        \n",
    "variable_type = []\n",
    "for c in range(n_variables):\n",
    "    v = main.cell(column=c+2, row=4).value\n",
    "    if not v:\n",
    "        t = 'C' \n",
    "    elif v == 'cont':\n",
    "        t = 'C'\n",
    "    elif v == 'int':\n",
    "        t = 'I'\n",
    "    elif v == 'bin':\n",
    "        t = 'B'\n",
    "    else:\n",
    "        raise NameError('Variable type cannot be recognized')\n",
    "    variable_type.append(t)\n",
    "    \n",
    "variable_lb = []\n",
    "for c in range(n_variables):\n",
    "    v = main.cell(column=c+2, row=5).value\n",
    "    if v is None:\n",
    "        t = 0\n",
    "    elif v == '\"+inf\"':\n",
    "        raise NameError('Variable lower bound cannot be +inf')\n",
    "    elif v == '\"-inf\"':\n",
    "        t = -GRB.INFINITY\n",
    "    elif type(v) in [float, int]:\n",
    "        t = v\n",
    "    else:\n",
    "        raise NameError('Variable lower bound cannot be recognized')\n",
    "    variable_lb.append(t)\n",
    "\n",
    "variable_ub = []\n",
    "for c in range(n_variables):\n",
    "    v = main.cell(column=c+2, row=6).value\n",
    "    if v is None:\n",
    "        t = GRB.INFINITY\n",
    "    elif v == '\"+inf\"':\n",
    "        t = GRB.INFINITY\n",
    "    elif v == '\"-inf\"':\n",
    "        raise NameError('Variable upper bound cannot be -inf')\n",
    "    elif type(v) in [float, int]:\n",
    "        t = v\n",
    "    else:\n",
    "        raise NameError('Variable upper bound cannot be recognized')\n",
    "    variable_ub.append(t)\n",
    "    \n",
    "# whether to run sensitivity analysis\n",
    "run_sa = main.cell(column=2, row=7).value"
   ]
  },
  {
   "cell_type": "code",
   "execution_count": 58,
   "id": "dd668d2e",
   "metadata": {},
   "outputs": [],
   "source": [
    "# read constraints\n",
    "## find constraint column index\n",
    "for c in range(1, n_variables+100):\n",
    "    v = main.cell(column=c, row=8).value\n",
    "    if v == 'constraint type':\n",
    "        const_typ_cind = c\n",
    "        break\n",
    "\n",
    "if const_typ_cind-2 != n_variables:\n",
    "    raise NameError('Number of variables does not match the constraints')\n",
    "    \n",
    "## find last constraint row index\n",
    "for r in range(9, 100000):\n",
    "    v = main.cell(column=const_typ_cind, row=r).value\n",
    "    if v is None:\n",
    "        break\n",
    "    elif v not in [\"<=\", \">=\", \"=\"]:\n",
    "        print(v)\n",
    "        raise NameError(\"Wrong constraint type\")\n",
    "    else:\n",
    "        last_r_consraints=r\n",
    "\n",
    "## read constraints as dataframe\n",
    "for r in range(9, last_r_consraints+1):\n",
    "    v = main.cell(column=const_typ_cind+2, row=r).value\n",
    "    if v is None:\n",
    "        main.cell(column=const_typ_cind+2, row=r).value = \"c\"+str(r-8)\n",
    "    elif type(v) != str:\n",
    "        main.cell(column=const_typ_cind+2, row=r).value = str(v)\n",
    "    else:\n",
    "        1==1\n",
    "\n",
    "values = []\n",
    "cons_df = pd.DataFrame()\n",
    "for r in range(9, last_r_consraints+1):\n",
    "    r_values = []\n",
    "    for c in range(2, const_typ_cind+3):\n",
    "        r_values.append(main.cell(column=c, row=r).value)\n",
    "    values.append(r_values)\n",
    "    cons_df = pd.DataFrame(values)\n",
    "    cons_df.fillna(0, inplace=True)\n",
    "    cons_df.rename(columns={const_typ_cind-2:'Constraint Type', \n",
    "                            const_typ_cind-1:'RHS values',\n",
    "                            const_typ_cind:'Constraint Name'}, inplace=True)"
   ]
  },
  {
   "cell_type": "code",
   "execution_count": 59,
   "id": "5852a938",
   "metadata": {},
   "outputs": [],
   "source": [
    "# setup model\n",
    "m = Model()"
   ]
  },
  {
   "cell_type": "code",
   "execution_count": 60,
   "id": "61891c87",
   "metadata": {},
   "outputs": [],
   "source": [
    "# add variables\n",
    "x=m.addVars(n_variables)\n",
    "# set types, lb, ub of variables\n",
    "for i in range(n_variables):\n",
    "    x[i].setAttr('VarNAME', variable_name[i])\n",
    "    x[i].setAttr('vType', variable_type[i])\n",
    "    x[i].setAttr('lb', variable_lb[i])\n",
    "    x[i].setAttr('ub', variable_ub[i])"
   ]
  },
  {
   "cell_type": "code",
   "execution_count": 61,
   "id": "7c1c1e11",
   "metadata": {},
   "outputs": [],
   "source": [
    "# set objective\n",
    "objective = quicksum(obj_coeff[i] * x[i] for i in range(n_variables))\n",
    "m.setObjective(objective, obj)"
   ]
  },
  {
   "cell_type": "code",
   "execution_count": 62,
   "id": "b8b2ce24",
   "metadata": {},
   "outputs": [],
   "source": [
    "# add constraints\n",
    "if cons_df.shape[0]:\n",
    "    ## add le constraints\n",
    "    le_const = cons_df[cons_df['Constraint Type'] == '<=']\n",
    "    le_const.reset_index(inplace=True, drop=True)\n",
    "    for i in range(le_const.shape[0]):\n",
    "        m.addConstr(quicksum(le_const.iloc[i,j]* x[j] for j in range(n_variables)) <= le_const['RHS values'][i], name=le_const['Constraint Name'][i])\n",
    "    ## add ge constraints\n",
    "    ge_const = cons_df[cons_df['Constraint Type'] == '>=']\n",
    "    ge_const.reset_index(inplace=True, drop=True)\n",
    "    for i in range(ge_const.shape[0]):\n",
    "        m.addConstr(quicksum(ge_const.iloc[i,j]* x[j] for j in range(n_variables)) >= ge_const['RHS values'][i], name=ge_const['Constraint Name'][i])\n",
    "    ## add eq constraints\n",
    "    eq_const = cons_df[cons_df['Constraint Type'] == '=']\n",
    "    eq_const.reset_index(inplace=True, drop=True)\n",
    "    for i in range(eq_const.shape[0]):\n",
    "        m.addConstr(quicksum(eq_const.iloc[i,j]* x[j] for j in range(n_variables)) == eq_const['RHS values'][i], name=eq_const['Constraint Name'][i])"
   ]
  },
  {
   "cell_type": "code",
   "execution_count": 63,
   "id": "a24eda9a",
   "metadata": {},
   "outputs": [],
   "source": [
    "# sensitivity analysis\n",
    "def sensitivity_analysis():\n",
    "    for v in m.getVars():\n",
    "        print(\"For Variable \" + v.VarName+ \":\")\n",
    "        print(\"Minimum value coefficient can take before the optimal decision changes \"  + \"is \" + str(v.SAObjLow))\n",
    "        print(\"Maximum value coefficient can take before the optimal decision changes \"  + \"is \" + str(v.SAObjUp))\n",
    "    \n",
    "    for c in m.getConstrs():\n",
    "        print(\"For constraint \" + c.ConstrName+ \":\")\n",
    "        print(\"Shadow Price is \" + str(c.pi))\n",
    "        print(\"Minimum value RHS can take before the shadow price changes \"  + \"is \" + str(c.SARHSLow))\n",
    "        print(\"Maximum value RHS can take before the shadow price changes \"  + \"is \" + str(c.SARHSUp))\n",
    "\n",
    "def main(m, run_sa):\n",
    "    m.optimize()\n",
    "    if run_sa==1:\n",
    "        if \"I\" in variable_type or \"B\" in variable_type:\n",
    "            raise NameError('There is at least one variable with type of integer/binary.')\n",
    "        else:\n",
    "            sensitivity_analysis()\n",
    "    else:\n",
    "        1==1"
   ]
  },
  {
   "cell_type": "code",
   "execution_count": 64,
   "id": "655c76ee",
   "metadata": {},
   "outputs": [
    {
     "name": "stdout",
     "output_type": "stream",
     "text": [
      "Gurobi Optimizer version 9.5.2 build v9.5.2rc0 (mac64[rosetta2])\n",
      "Thread count: 8 physical cores, 8 logical processors, using up to 8 threads\n",
      "Optimize a model with 2 rows, 2 columns and 4 nonzeros\n",
      "Model fingerprint: 0xd981af52\n",
      "Coefficient statistics:\n",
      "  Matrix range     [1e+00, 4e+00]\n",
      "  Objective range  [5e+00, 7e+00]\n",
      "  Bounds range     [1e+02, 4e+02]\n",
      "  RHS range        [1e+03, 2e+03]\n",
      "Presolve time: 0.01s\n",
      "Presolved: 2 rows, 2 columns, 4 nonzeros\n",
      "\n",
      "Iteration    Objective       Primal Inf.    Dual Inf.      Time\n",
      "       0    2.8000000e+31   1.750000e+30   2.800000e+01      0s\n",
      "       2    4.0400000e+03   0.000000e+00   0.000000e+00      0s\n",
      "\n",
      "Solved in 2 iterations and 0.01 seconds (0.00 work units)\n",
      "Optimal objective  4.040000000e+03\n",
      "For Variable tables:\n",
      "Minimum value coefficient can take before the optimal decision changes is 3.75\n",
      "Maximum value coefficient can take before the optimal decision changes is 10.0\n",
      "For Variable chairs:\n",
      "Minimum value coefficient can take before the optimal decision changes is 3.5\n",
      "Maximum value coefficient can take before the optimal decision changes is 9.333333333333334\n",
      "For constraint c1:\n",
      "Shadow Price is 0.6\n",
      "Minimum value RHS can take before the shadow price changes is 1500.0\n",
      "Maximum value RHS can take before the shadow price changes is 2625.0\n",
      "For constraint painting constraint:\n",
      "Shadow Price is 2.6\n",
      "Minimum value RHS can take before the shadow price changes is 850.0\n",
      "Maximum value RHS can take before the shadow price changes is 1600.0\n"
     ]
    }
   ],
   "source": [
    "## run the model\n",
    "main(m, run_sa)"
   ]
  },
  {
   "cell_type": "code",
   "execution_count": 65,
   "id": "9e83c0b9",
   "metadata": {},
   "outputs": [
    {
     "data": {
      "text/plain": [
       "4040.0"
      ]
     },
     "execution_count": 65,
     "metadata": {},
     "output_type": "execute_result"
    }
   ],
   "source": [
    "# print optimal objective value\n",
    "m.objVal"
   ]
  },
  {
   "cell_type": "code",
   "execution_count": 66,
   "id": "229908d1",
   "metadata": {},
   "outputs": [
    {
     "name": "stdout",
     "output_type": "stream",
     "text": [
      "\n",
      "    Variable            X \n",
      "-------------------------\n",
      "      tables          320 \n",
      "      chairs          360 \n"
     ]
    }
   ],
   "source": [
    "# print optimal decisions (if not listed, that means their optimal value = 0)\n",
    "m.printAttr('X')"
   ]
  },
  {
   "cell_type": "code",
   "execution_count": null,
   "id": "1b9a2ad4",
   "metadata": {},
   "outputs": [],
   "source": []
  }
 ],
 "metadata": {
  "kernelspec": {
   "display_name": "Python 3 (ipykernel)",
   "language": "python",
   "name": "python3"
  },
  "language_info": {
   "codemirror_mode": {
    "name": "ipython",
    "version": 3
   },
   "file_extension": ".py",
   "mimetype": "text/x-python",
   "name": "python",
   "nbconvert_exporter": "python",
   "pygments_lexer": "ipython3",
   "version": "3.9.10"
  }
 },
 "nbformat": 4,
 "nbformat_minor": 5
}
